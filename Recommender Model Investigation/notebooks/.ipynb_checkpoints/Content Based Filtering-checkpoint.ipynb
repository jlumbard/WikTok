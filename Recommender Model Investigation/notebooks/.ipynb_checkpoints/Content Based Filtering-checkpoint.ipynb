{
 "cells": [
  {
   "cell_type": "markdown",
   "metadata": {},
   "source": [
    "# Content Based Recommender"
   ]
  },
  {
   "cell_type": "code",
   "execution_count": 12,
   "metadata": {},
   "outputs": [
    {
     "data": {
      "text/html": [
       "<div>\n",
       "<style scoped>\n",
       "    .dataframe tbody tr th:only-of-type {\n",
       "        vertical-align: middle;\n",
       "    }\n",
       "\n",
       "    .dataframe tbody tr th {\n",
       "        vertical-align: top;\n",
       "    }\n",
       "\n",
       "    .dataframe thead th {\n",
       "        text-align: right;\n",
       "    }\n",
       "</style>\n",
       "<table border=\"1\" class=\"dataframe\">\n",
       "  <thead>\n",
       "    <tr style=\"text-align: right;\">\n",
       "      <th></th>\n",
       "      <th>title</th>\n",
       "      <th>overview</th>\n",
       "    </tr>\n",
       "  </thead>\n",
       "  <tbody>\n",
       "    <tr>\n",
       "      <th>0</th>\n",
       "      <td>Toronto Raptors</td>\n",
       "      <td>The Toronto Raptors are a Canadian professiona...</td>\n",
       "    </tr>\n",
       "    <tr>\n",
       "      <th>1</th>\n",
       "      <td>National Basketball Association</td>\n",
       "      <td>The National Basketball Association (NBA) is a...</td>\n",
       "    </tr>\n",
       "    <tr>\n",
       "      <th>2</th>\n",
       "      <td>Larry O'Brien Trophy</td>\n",
       "      <td>The Larry O'Brien NBA Championship Trophy is t...</td>\n",
       "    </tr>\n",
       "  </tbody>\n",
       "</table>\n",
       "</div>"
      ],
      "text/plain": [
       "                             title  \\\n",
       "0                  Toronto Raptors   \n",
       "1  National Basketball Association   \n",
       "2             Larry O'Brien Trophy   \n",
       "\n",
       "                                            overview  \n",
       "0  The Toronto Raptors are a Canadian professiona...  \n",
       "1  The National Basketball Association (NBA) is a...  \n",
       "2  The Larry O'Brien NBA Championship Trophy is t...  "
      ]
     },
     "execution_count": 12,
     "metadata": {},
     "output_type": "execute_result"
    }
   ],
   "source": [
    "import pandas as pd\n",
    "from sklearn.metrics.pairwise import linear_kernel\n",
    "from sklearn.feature_extraction.text import TfidfVectorizer\n",
    "\n",
    "#load movies metadata\n",
    "metadata = pd.read_csv(\"../datasets/SamplewikiDB-v1.csv\", low_memory = False)\n",
    "\n",
    "#print first three rows\n",
    "metadata.head(3)"
   ]
  },
  {
   "cell_type": "code",
   "execution_count": 13,
   "metadata": {},
   "outputs": [],
   "source": [
    "def computeCosineSim():\n",
    "    \n",
    "    #define a TF-IDF vectorizer object. remove all english stop words such as 'the', 'a'\n",
    "    tfidf = TfidfVectorizer(stop_words='english')\n",
    "\n",
    "    #replace NaN values with an empty string\n",
    "    metadata['overview'] = metadata['overview'].fillna('')\n",
    "\n",
    "    #construct the required TF-IDF matrix by fitting and transforming the data\n",
    "    tfidf_matrix = tfidf.fit_transform(metadata['overview'])\n",
    "\n",
    "    #since we have already vectorized the matrix, we can directly take the dot prodcut to find the cosine similarity \n",
    "    #thus, we can use sklearn's linear_kernel() instead of consine_similarity() since it is faster\n",
    "    #compute cos similarity matrix, which returns each article's cos siilarity score with every other article based on overview\n",
    "\n",
    "    cosine_sim = linear_kernel(tfidf_matrix, tfidf_matrix)\n",
    "\n",
    "    return cosine_sim, metadata\n",
    "\n"
   ]
  },
  {
   "cell_type": "code",
   "execution_count": 16,
   "metadata": {},
   "outputs": [
    {
     "name": "stdout",
     "output_type": "stream",
     "text": [
      "['Toronto_Maple_Leafs', 'Atlanta_Hawks', 'Boston_Bruins', 'Toronto_Raptors', 'Boston_Bruins', 'Edmonton_Oilers', 'A_Tribe_Called_Quest', 'Run-DMC', 'Jay-z']\n"
     ]
    }
   ],
   "source": [
    "def getContentBasedRecs():\n",
    "\n",
    "    #Filter it to just the ArticleNames\n",
    "    articleNames =[]\n",
    "\n",
    "    titlesArray = ['Toronto Raptors','Toronto Maple Leafs', 'Tyler, the Creator']\n",
    "\n",
    "    #Changed from hardcoded.\n",
    "    \n",
    "    #input var title is array of \"liked\" titles that were inputted by the user through onboarding\n",
    "    cosine_sim, metadata = computeCosineSim()\n",
    "    similarArticles = []\n",
    "    #construct a reverse map of indices and article titles\n",
    "    indices = pd.Series(metadata.index, index=metadata['title']).drop_duplicates()\n",
    "    for i in titlesArray:\n",
    "        idx = indices[i]\n",
    "\n",
    "        #get pairwise similarity scores of all article with that title\n",
    "        sim_scores = list(enumerate(cosine_sim[idx]))\n",
    "\n",
    "        #sort the scores of the 10 most similar articles\n",
    "        sim_scores = sorted(sim_scores, key=lambda x: x[1], reverse=True)\n",
    "\n",
    "        #get the scores of the 3 most similar articles\n",
    "        sim_scores = sim_scores[1:4]\n",
    "\n",
    "        #get the article indices\n",
    "        article_indices = [i[0] for i in sim_scores]\n",
    "\n",
    "        titleOfArticle = metadata['title'].iloc[article_indices]\n",
    "        titleOfArticle = titleOfArticle.to_numpy()\n",
    "        res = [article.replace(' ', '_') for article in titleOfArticle]\n",
    "        \n",
    "        #iterate through the list of titles of articles and append wikipedia url\n",
    "        for i in range (len(titleOfArticle)):\n",
    "            similarArticles.append(res[i])\n",
    "\n",
    "    return similarArticles\n",
    "\n",
    "similarArticles = getContentBasedRecs()\n",
    "\n",
    "print(similarArticles)"
   ]
  }
 ],
 "metadata": {
  "kernelspec": {
   "display_name": "Python 3",
   "language": "python",
   "name": "python3"
  },
  "language_info": {
   "codemirror_mode": {
    "name": "ipython",
    "version": 3
   },
   "file_extension": ".py",
   "mimetype": "text/x-python",
   "name": "python",
   "nbconvert_exporter": "python",
   "pygments_lexer": "ipython3",
   "version": "3.8.5"
  }
 },
 "nbformat": 4,
 "nbformat_minor": 4
}
